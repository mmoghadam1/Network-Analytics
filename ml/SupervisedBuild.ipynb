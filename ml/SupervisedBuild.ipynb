{
 "cells": [
  {
   "cell_type": "code",
   "execution_count": null,
   "metadata": {},
   "outputs": [],
   "source": [
    "import swifter\n",
    "import numpy as np\n",
    "import pandas as pd"
   ]
  },
  {
   "cell_type": "code",
   "execution_count": null,
   "metadata": {},
   "outputs": [],
   "source": [
    "inputfile = '/data/maxim/data/new.csv'\n",
    "columns = ['packets', 'bytes', 'start', 'end', 'srcaddr',\n",
    "            'destaddr','srcport','destport', 'protocol']\n",
    "\n",
    "df = pd.read_csv(inputfile, names=columns)#, skiprows = lambda x: logic(x))#1000000)\n",
    "df = df.sort_values('srcaddr')\n",
    "df['duration'] = df.end - df.start\n",
    "df.loc[df['duration'] == 0, 'duration'] = 0.5\n",
    "df['rate'] = (df.bytes/df.duration).round(3)\n",
    "df.to_csv('/data/maxim/data/raw_flow_w_rate.csv',index=False)\n"
   ]
  }
 ],
 "metadata": {
  "kernelspec": {
   "display_name": "Python 3",
   "language": "python",
   "name": "python3"
  },
  "language_info": {
   "codemirror_mode": {
    "name": "ipython",
    "version": 3
   },
   "file_extension": ".py",
   "mimetype": "text/x-python",
   "name": "python",
   "nbconvert_exporter": "python",
   "pygments_lexer": "ipython3",
   "version": "3.6.9"
  }
 },
 "nbformat": 4,
 "nbformat_minor": 4
}
